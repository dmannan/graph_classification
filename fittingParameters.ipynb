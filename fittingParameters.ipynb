{
 "cells": [
  {
   "cell_type": "markdown",
   "metadata": {},
   "source": [
    "### Rudimentary notebook demonstrating mixture models on graphs"
   ]
  },
  {
   "cell_type": "code",
   "execution_count": 66,
   "metadata": {},
   "outputs": [],
   "source": [
    "import numpy as np \n",
    "#import graspy\n",
    "from graspy.simulations import er_nm, er_np\n",
    "\n",
    "from scipy.stats import norm"
   ]
  },
  {
   "cell_type": "markdown",
   "metadata": {},
   "source": [
    "#### Let's fit Zero-inflated models to simulated data\n",
    "In ZI models we know that we sample a Bernoulli for edge existence and any other distribution after edge exists"
   ]
  },
  {
   "cell_type": "markdown",
   "metadata": {},
   "source": [
    "### Fit ZI ER with edge existence probability is not Bernoulli or Binomial"
   ]
  },
  {
   "cell_type": "code",
   "execution_count": 67,
   "metadata": {
    "scrolled": true
   },
   "outputs": [
    {
     "data": {
      "text/plain": [
       "(50, 50)"
      ]
     },
     "execution_count": 67,
     "metadata": {},
     "output_type": "execute_result"
    }
   ],
   "source": [
    "\n",
    "\n",
    "n = 50\n",
    "\n",
    "p = 0.3 ## prob of edge existing \n",
    "np.random.seed(1)\n",
    "G1 = er_np(n=n, p=p)\n",
    "G1.shape"
   ]
  },
  {
   "cell_type": "code",
   "execution_count": 68,
   "metadata": {},
   "outputs": [],
   "source": [
    "### Replace the edges that exist with a normal distribution\n",
    "\n",
    "#G1[G1 ==1] = np.random.normal(100,5) ## replace the 1's with a normal distribution value\n",
    "## HERE I AM USING NORMAL DIST WITH HIGH MEAN AND VARIANCE SO IT DOESN'T OVERLAP WITH THE BERNOULLI (I.E I DON'T GET \n",
    "#ZEROS FROM THE NORMAL)\n",
    "##This doesn't do the correct thing look below"
   ]
  },
  {
   "cell_type": "code",
   "execution_count": 69,
   "metadata": {},
   "outputs": [
    {
     "name": "stdout",
     "output_type": "stream",
     "text": [
      "[[  0.          95.28279892   0.         ...   0.           0.\n",
      "    0.        ]\n",
      " [101.2298065    0.           0.         ... 106.4942715    0.\n",
      "    0.        ]\n",
      " [  0.           0.           0.         ...   0.           0.\n",
      "    0.        ]\n",
      " ...\n",
      " [  0.         105.63637833   0.         ...   0.           0.\n",
      "  101.35779554]\n",
      " [  0.           0.           0.         ...   0.           0.\n",
      "    0.        ]\n",
      " [  0.           0.           0.         ... 102.36770396   0.\n",
      "    0.        ]]\n"
     ]
    }
   ],
   "source": [
    "## Try again with a loop to replace the normal values \n",
    "for index, x in np.ndenumerate(G1):\n",
    "    if x == 1:\n",
    "        G1[index] = np.random.normal(100,5)\n",
    "        \n",
    "print(G1)\n",
    "\n",
    "\n"
   ]
  },
  {
   "cell_type": "code",
   "execution_count": 70,
   "metadata": {},
   "outputs": [
    {
     "data": {
      "text/plain": [
       "0.712"
      ]
     },
     "execution_count": 70,
     "metadata": {},
     "output_type": "execute_result"
    }
   ],
   "source": [
    "### Now to find the estimated parameters:\n",
    "\n",
    "## Let's find the probability of not being an edge, i.e the inflation of zeros\n",
    "\n",
    "prob = ((G1 == 0).sum())/(G1.shape[0]**2) ##1st sum how many zeros and then to find prob, divide total number of edges\n",
    "prob ## makes sense because the prob of edge existence was 0.3\n",
    "\n"
   ]
  },
  {
   "cell_type": "code",
   "execution_count": 71,
   "metadata": {},
   "outputs": [
    {
     "name": "stdout",
     "output_type": "stream",
     "text": [
      "100.13283753854752\n",
      "4.971278285693728\n"
     ]
    }
   ],
   "source": [
    "### Now need to fit the Normal distribution\n",
    "\n",
    "normalValues = G1[G1 != 0] ## extract non-zero values, because assuming they come from normal dist\n",
    "mu, std = norm.fit(normalValues)\n",
    "print(mu)\n",
    "print(std)\n",
    "## I recovered the parameters!!"
   ]
  },
  {
   "cell_type": "markdown",
   "metadata": {},
   "source": [
    "### Let's try to fit ZI on an SBM where the block sizes are known"
   ]
  },
  {
   "cell_type": "code",
   "execution_count": 74,
   "metadata": {},
   "outputs": [],
   "source": [
    "## so give data of known size and prob dist\n",
    "n = [50, 50]\n",
    "p = [[0.5, 0.2],\n",
    "     [0.2, 0.05]]\n",
    "\n",
    "np.random.seed(1)\n",
    "G = graspy.simulations.sbm(n=n, p=p)\n"
   ]
  },
  {
   "cell_type": "code",
   "execution_count": 77,
   "metadata": {},
   "outputs": [
    {
     "name": "stdout",
     "output_type": "stream",
     "text": [
      "[[  0.           0.          97.5366121  ...  88.63224399   0.\n",
      "    0.        ]\n",
      " [  0.           0.         108.90064678 ...   0.           0.\n",
      "  104.78785225]\n",
      " [101.12302295  97.61427891   0.         ...   0.           0.\n",
      "   93.30550284]\n",
      " ...\n",
      " [ 92.41598148   0.           0.         ...   0.           0.\n",
      "    0.        ]\n",
      " [  0.           0.           0.         ...   0.           0.\n",
      "    0.        ]\n",
      " [  0.          95.53369205 100.43122627 ...   0.           0.\n",
      "    0.        ]]\n"
     ]
    }
   ],
   "source": [
    "## Let's start with giving all the blocks the same normal density \n",
    "for index, x in np.ndenumerate(G):\n",
    "    if x == 1:\n",
    "        G[index] = np.random.normal(100,5)\n",
    "        \n",
    "print(G)\n"
   ]
  },
  {
   "cell_type": "code",
   "execution_count": 79,
   "metadata": {},
   "outputs": [
    {
     "data": {
      "text/plain": [
       "0.5328"
      ]
     },
     "execution_count": 79,
     "metadata": {},
     "output_type": "execute_result"
    }
   ],
   "source": [
    "### Let's try recovering the parameters for one of the blocks:\n",
    "\n",
    "##Block1 is 50x50\n",
    "prob1 = ((G[:50,:50] == 0).sum())/(n[0]**2) ##so find the probablility of edge not existing\n",
    "prob1\n"
   ]
  },
  {
   "cell_type": "code",
   "execution_count": 84,
   "metadata": {},
   "outputs": [
    {
     "name": "stdout",
     "output_type": "stream",
     "text": [
      "99.87596684758769\n",
      "4.949528819242979\n"
     ]
    }
   ],
   "source": [
    "block1 = G[:50,:50]\n",
    "normalValues1 = block1[block1 != 0] ## extract non-zero values, because assuming they come from normal dist\n",
    "mu1, std1 = norm.fit(normalValues1)\n",
    "print(mu1)\n",
    "print(std1) \n",
    "## recovered the normal dist"
   ]
  },
  {
   "cell_type": "code",
   "execution_count": 85,
   "metadata": {},
   "outputs": [
    {
     "name": "stdout",
     "output_type": "stream",
     "text": [
      "99.83996042280363\n",
      "5.090899702561903\n"
     ]
    }
   ],
   "source": [
    "block2 = G[:50,50:]\n",
    "normalValues2 = block2[block2 != 0] ## extract non-zero values, because assuming they come from normal dist\n",
    "mu2, std2 = norm.fit(normalValues2)\n",
    "print(mu2)\n",
    "print(std2)\n"
   ]
  },
  {
   "cell_type": "markdown",
   "metadata": {},
   "source": []
  }
 ],
 "metadata": {
  "kernelspec": {
   "display_name": "Python 3",
   "language": "python",
   "name": "python3"
  },
  "language_info": {
   "codemirror_mode": {
    "name": "ipython",
    "version": 3
   },
   "file_extension": ".py",
   "mimetype": "text/x-python",
   "name": "python",
   "nbconvert_exporter": "python",
   "pygments_lexer": "ipython3",
   "version": "3.7.2"
  }
 },
 "nbformat": 4,
 "nbformat_minor": 2
}
