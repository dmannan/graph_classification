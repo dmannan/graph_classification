{
 "cells": [
  {
   "cell_type": "code",
   "execution_count": 1,
   "metadata": {},
   "outputs": [],
   "source": [
    "import numpy as np\n",
    "from graspy.simulations import sbm"
   ]
  },
  {
   "cell_type": "markdown",
   "metadata": {},
   "source": [
    "#### Create the SBMs"
   ]
  },
  {
   "cell_type": "code",
   "execution_count": 2,
   "metadata": {},
   "outputs": [],
   "source": [
    "n = [50, 50]\n",
    "p = [[0.1, 0.5],\n",
    "     [0.5, 0.5]]\n",
    "\n",
    "np.random.seed(1)\n",
    "G1 = sbm(n=n, p=p)\n",
    "\n"
   ]
  },
  {
   "cell_type": "code",
   "execution_count": 3,
   "metadata": {},
   "outputs": [],
   "source": [
    "n1 = [50, 50]\n",
    "p1 = [[0.9, 0.5],\n",
    "     [0.5, 0.5]]\n",
    "\n",
    "np.random.seed(1)\n",
    "G2 = sbm(n=n1, p=p1)"
   ]
  },
  {
   "cell_type": "markdown",
   "metadata": {},
   "source": [
    "#### Find the degree of each SBM"
   ]
  },
  {
   "cell_type": "code",
   "execution_count": 23,
   "metadata": {
    "scrolled": true
   },
   "outputs": [
    {
     "name": "stdout",
     "output_type": "stream",
     "text": [
      "[32. 35. 35. 30. 28. 32. 29. 28. 32. 30. 28. 27. 27. 29. 37. 19. 26. 28.\n",
      " 34. 31. 33. 31. 33. 29. 29. 29. 22. 26. 25. 29. 31. 27. 33. 31. 30. 27.\n",
      " 35. 29. 38. 35. 33. 30. 31. 27. 28. 20. 31. 31. 31. 21. 48. 50. 44. 48.\n",
      " 45. 47. 51. 48. 52. 45. 47. 46. 52. 53. 44. 51. 48. 49. 50. 43. 55. 50.\n",
      " 53. 48. 58. 54. 55. 51. 49. 49. 37. 57. 58. 48. 49. 52. 45. 49. 38. 54.\n",
      " 54. 44. 49. 48. 49. 49. 55. 50. 55. 41.]\n",
      "[70. 75. 68. 67. 65. 74. 71. 67. 68. 66. 64. 70. 67. 72. 73. 64. 70. 67.\n",
      " 76. 71. 69. 71. 75. 74. 71. 67. 64. 62. 66. 67. 71. 68. 71. 68. 71. 68.\n",
      " 77. 63. 78. 72. 71. 62. 76. 66. 67. 59. 67. 72. 68. 60. 48. 50. 44. 48.\n",
      " 45. 47. 51. 48. 52. 45. 47. 46. 52. 53. 44. 51. 48. 49. 50. 43. 55. 50.\n",
      " 53. 48. 58. 54. 55. 51. 49. 49. 37. 57. 58. 48. 49. 52. 45. 49. 38. 54.\n",
      " 54. 44. 49. 48. 49. 49. 55. 50. 55. 41.]\n"
     ]
    }
   ],
   "source": [
    "deg1 = np.dot(G1, (np.ones(G1.shape[0])))\n",
    "deg2 = np.dot(G2, (np.ones(G2.shape[0])))\n",
    "print(deg1)\n",
    "print(deg2)"
   ]
  },
  {
   "cell_type": "code",
   "execution_count": null,
   "metadata": {},
   "outputs": [],
   "source": []
  }
 ],
 "metadata": {
  "kernelspec": {
   "display_name": "Python 3",
   "language": "python",
   "name": "python3"
  },
  "language_info": {
   "codemirror_mode": {
    "name": "ipython",
    "version": 3
   },
   "file_extension": ".py",
   "mimetype": "text/x-python",
   "name": "python",
   "nbconvert_exporter": "python",
   "pygments_lexer": "ipython3",
   "version": "3.7.2"
  }
 },
 "nbformat": 4,
 "nbformat_minor": 2
}
