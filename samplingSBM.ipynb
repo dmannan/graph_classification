{
 "cells": [
  {
   "cell_type": "markdown",
   "metadata": {},
   "source": [
    "### Demo notebook to sample graphs under ER and SBM model "
   ]
  },
  {
   "cell_type": "code",
   "execution_count": 1,
   "metadata": {},
   "outputs": [],
   "source": [
    "import numpy as np\n",
    "from graspy.simulations import er_nm, er_np \n",
    "\n",
    "from graspy.simulations import sbm"
   ]
  },
  {
   "cell_type": "markdown",
   "metadata": {},
   "source": [
    "#### Let's try to generate different ER models and check their probability"
   ]
  },
  {
   "cell_type": "code",
   "execution_count": 2,
   "metadata": {},
   "outputs": [
    {
     "name": "stdout",
     "output_type": "stream",
     "text": [
      "(10, 10)\n",
      "0.54\n",
      "(100, 100)\n",
      "0.5954\n",
      "(1000, 1000)\n",
      "0.599266\n",
      "(10000, 10000)\n",
      "0.59990148\n"
     ]
    }
   ],
   "source": [
    "for vertices in [10,100,1000,10000]:\n",
    "    np.random.seed(1)\n",
    "    G1 = er_np(n=vertices, p=0.6) ##so specified the number of vertices (NOT edges) and the prob of a 1\n",
    "    print(G1.shape)\n",
    "\n",
    "#### Make sure the probablity of the above graph is what we specified\n",
    "\n",
    "    totalSum = np.sum(G1, axis=None) ##sum over the array\n",
    "\n",
    "    prob = totalSum/(G1.shape[0]*G1.shape[0]) ##so this is not 0.6, but this is random\n",
    "    print(prob)"
   ]
  },
  {
   "cell_type": "markdown",
   "metadata": {},
   "source": [
    "### Generating an SBM and finsing each block probability"
   ]
  },
  {
   "cell_type": "code",
   "execution_count": 3,
   "metadata": {},
   "outputs": [],
   "source": [
    "n = [50, 50]\n",
    "p = [[0.5, 0.2],\n",
    "     [0.2, 0.05]]\n",
    "\n",
    "np.random.seed(1)\n",
    "G = sbm(n=n, p=p)"
   ]
  },
  {
   "cell_type": "code",
   "execution_count": 4,
   "metadata": {},
   "outputs": [
    {
     "data": {
      "text/plain": [
       "(100, 100)"
      ]
     },
     "execution_count": 4,
     "metadata": {},
     "output_type": "execute_result"
    }
   ],
   "source": [
    "G.shape ## so each block has a size of 50x50"
   ]
  },
  {
   "cell_type": "code",
   "execution_count": 5,
   "metadata": {},
   "outputs": [
    {
     "data": {
      "text/plain": [
       "0.4672"
      ]
     },
     "execution_count": 5,
     "metadata": {},
     "output_type": "execute_result"
    }
   ],
   "source": [
    "Block1Sum = np.sum(G[:50,:50], axis = None)\n",
    "prob1 = Block1Sum/(n[0]*n[0]) ## want the shape of the 1st block\n",
    "prob1 ## correct prob for the 1st block "
   ]
  },
  {
   "cell_type": "code",
   "execution_count": 6,
   "metadata": {},
   "outputs": [
    {
     "data": {
      "text/plain": [
       "0.1972"
      ]
     },
     "execution_count": 6,
     "metadata": {},
     "output_type": "execute_result"
    }
   ],
   "source": [
    "Block2Sum = np.sum(G[:50, 50:], axis = None)\n",
    "prob2 = Block2Sum/(n[0]*n[0])\n",
    "prob2"
   ]
  },
  {
   "cell_type": "code",
   "execution_count": 7,
   "metadata": {},
   "outputs": [
    {
     "data": {
      "text/plain": [
       "0.1972"
      ]
     },
     "execution_count": 7,
     "metadata": {},
     "output_type": "execute_result"
    }
   ],
   "source": [
    "Block3Sum = np.sum(G[50:, :50], axis = None)\n",
    "prob3 = Block3Sum/(n[0]*n[0])\n",
    "prob3"
   ]
  },
  {
   "cell_type": "code",
   "execution_count": 8,
   "metadata": {},
   "outputs": [
    {
     "data": {
      "text/plain": [
       "0.0552"
      ]
     },
     "execution_count": 8,
     "metadata": {},
     "output_type": "execute_result"
    }
   ],
   "source": [
    "Block4Sum = np.sum(G[50:, 50:], axis = None)\n",
    "prob4 = Block4Sum/(n[0]*n[0])\n",
    "prob4"
   ]
  },
  {
   "cell_type": "markdown",
   "metadata": {},
   "source": [
    "#### Trying SBM with different block sizes"
   ]
  },
  {
   "cell_type": "code",
   "execution_count": 17,
   "metadata": {},
   "outputs": [],
   "source": [
    "n = [50, 30]\n",
    "p = [[0.6, 0.2],\n",
    "     [0.2, 0.1]]\n",
    "\n",
    "np.random.seed(1)\n",
    "G3 = sbm(n=n, p=p)"
   ]
  },
  {
   "cell_type": "code",
   "execution_count": 18,
   "metadata": {},
   "outputs": [
    {
     "data": {
      "text/plain": [
       "(80, 80)"
      ]
     },
     "execution_count": 18,
     "metadata": {},
     "output_type": "execute_result"
    }
   ],
   "source": [
    "G3.shape"
   ]
  },
  {
   "cell_type": "code",
   "execution_count": 19,
   "metadata": {},
   "outputs": [
    {
     "data": {
      "text/plain": [
       "0.5712"
      ]
     },
     "execution_count": 19,
     "metadata": {},
     "output_type": "execute_result"
    }
   ],
   "source": [
    "Block1Sum = np.sum(G3[:50,:50], axis = None)\n",
    "prob1 = Block1Sum/(n[0]*n[0]) ## want the shape of the 1st block\n",
    "prob1"
   ]
  },
  {
   "cell_type": "code",
   "execution_count": 20,
   "metadata": {},
   "outputs": [
    {
     "data": {
      "text/plain": [
       "0.19733333333333333"
      ]
     },
     "execution_count": 20,
     "metadata": {},
     "output_type": "execute_result"
    }
   ],
   "source": [
    "Block2Sum = np.sum(G3[:50,50:], axis = None)\n",
    "prob2 = Block2Sum/(n[0]*n[1]) ## want the shape of the 1st block\n",
    "prob2"
   ]
  },
  {
   "cell_type": "code",
   "execution_count": 21,
   "metadata": {},
   "outputs": [
    {
     "data": {
      "text/plain": [
       "0.19733333333333333"
      ]
     },
     "execution_count": 21,
     "metadata": {},
     "output_type": "execute_result"
    }
   ],
   "source": [
    "Block3Sum = np.sum(G3[50:,:50], axis = None)\n",
    "prob3 = Block3Sum/(n[0]*n[1]) ## want the shape of the 1st block\n",
    "prob3"
   ]
  },
  {
   "cell_type": "code",
   "execution_count": 22,
   "metadata": {},
   "outputs": [
    {
     "data": {
      "text/plain": [
       "0.15333333333333332"
      ]
     },
     "execution_count": 22,
     "metadata": {},
     "output_type": "execute_result"
    }
   ],
   "source": [
    "BlockS4um = np.sum(G3[50:,50:], axis = None)\n",
    "prob4 = Block4Sum/(n[1]*n[1]) ## want the shape of the 1st block\n",
    "prob4"
   ]
  },
  {
   "cell_type": "code",
   "execution_count": null,
   "metadata": {},
   "outputs": [],
   "source": []
  }
 ],
 "metadata": {
  "kernelspec": {
   "display_name": "Python 3",
   "language": "python",
   "name": "python3"
  },
  "language_info": {
   "codemirror_mode": {
    "name": "ipython",
    "version": 3
   },
   "file_extension": ".py",
   "mimetype": "text/x-python",
   "name": "python",
   "nbconvert_exporter": "python",
   "pygments_lexer": "ipython3",
   "version": "3.7.2"
  }
 },
 "nbformat": 4,
 "nbformat_minor": 2
}
