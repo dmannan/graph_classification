{
 "cells": [
  {
   "cell_type": "code",
   "execution_count": 1,
   "metadata": {},
   "outputs": [],
   "source": [
    "from graspy.simulations import er_nm, er_np\n",
    "from graspy.simulations import sbm\n",
    "import numpy as np\n",
    "import matplotlib\n",
    "import matplotlib.pyplot as plt\n",
    "from distutils.version import LooseVersion\n",
    "from scipy.stats import norm\n",
    "from sklearn.neighbors import KernelDensity\n",
    "%matplotlib inline\n"
   ]
  },
  {
   "cell_type": "code",
   "execution_count": 2,
   "metadata": {},
   "outputs": [],
   "source": [
    "n = 100\n",
    "p = 0.4 ## prob of edge existing \n",
    "np.random.seed(1)\n",
    "G1 = er_np(n=n, p=p)\n",
    "zeros = G1[G1 ==0]"
   ]
  },
  {
   "cell_type": "code",
   "execution_count": 3,
   "metadata": {},
   "outputs": [],
   "source": [
    "\n",
    "def edgeDistribution(graph, mean, var): \n",
    "    for index, x in np.ndenumerate(graph):\n",
    "        if x == 1:\n",
    "            graph[index] = np.random.normal(mean,var) ##just use standard normal\n",
    "    return(graph)"
   ]
  },
  {
   "cell_type": "code",
   "execution_count": 4,
   "metadata": {},
   "outputs": [
    {
     "data": {
      "text/plain": [
       "array([[ 0.        , -0.60735181,  0.        , ...,  0.        ,\n",
       "         0.        , -0.14037099],\n",
       "       [ 0.14164167,  0.        ,  0.        , ...,  0.        ,\n",
       "         0.        ,  0.06152691],\n",
       "       [ 0.        ,  0.        ,  0.        , ...,  0.        ,\n",
       "         0.        ,  0.        ],\n",
       "       ...,\n",
       "       [ 0.        ,  0.        ,  0.        , ...,  0.        ,\n",
       "         0.        ,  0.        ],\n",
       "       [ 0.        ,  0.        ,  0.        , ...,  0.        ,\n",
       "         0.        ,  0.40334744],\n",
       "       [-2.502177  ,  0.61644834,  0.        , ...,  0.        ,\n",
       "         0.59709506,  0.        ]])"
      ]
     },
     "execution_count": 4,
     "metadata": {},
     "output_type": "execute_result"
    }
   ],
   "source": [
    "G1 = edgeDistribution(G1, 0,1)\n",
    "G1"
   ]
  },
  {
   "cell_type": "code",
   "execution_count": 5,
   "metadata": {},
   "outputs": [],
   "source": [
    "def probZero(graphs,shape):\n",
    "    prob = ((graphs == 0).sum())/(shape**2) ##1st sum how many zeros and then to find prob, divide total number of edges\n",
    "    return(prob) "
   ]
  },
  {
   "cell_type": "code",
   "execution_count": 6,
   "metadata": {},
   "outputs": [
    {
     "data": {
      "text/plain": [
       "0.6054"
      ]
     },
     "execution_count": 6,
     "metadata": {},
     "output_type": "execute_result"
    }
   ],
   "source": [
    "prob = probZero(graphs = G1, shape = G1.shape[0])\n",
    "prob"
   ]
  },
  {
   "cell_type": "code",
   "execution_count": 7,
   "metadata": {},
   "outputs": [],
   "source": [
    "normalValues = G1[G1 != 0] \n",
    "normalValues = np.reshape(normalValues, (-1, 1))"
   ]
  },
  {
   "cell_type": "code",
   "execution_count": 8,
   "metadata": {},
   "outputs": [],
   "source": [
    "kde = KernelDensity(kernel='gaussian', bandwidth=0.75).fit(normalValues)\n",
    "log_dens = kde.score_samples(normalValues)"
   ]
  },
  {
   "cell_type": "code",
   "execution_count": 9,
   "metadata": {
    "scrolled": true
   },
   "outputs": [
    {
     "name": "stdout",
     "output_type": "stream",
     "text": [
      "(1000, 1)\n",
      "(3946, 1)\n"
     ]
    },
    {
     "data": {
      "text/plain": [
       "Text(-3.5, 0.31, 'Gaussian Kernel Density')"
      ]
     },
     "execution_count": 9,
     "metadata": {},
     "output_type": "execute_result"
    },
    {
     "data": {
      "image/png": "[encoded data removed]",
      "text/plain": [
       "<Figure size 432x288 with 1 Axes>"
      ]
     },
     "metadata": {
      "needs_background": "light"
     },
     "output_type": "display_data"
    }
   ],
   "source": [
    "X_plot = np.linspace(-5, 10, 1000)[:, np.newaxis]\n",
    "X = normalValues\n",
    "print(X_plot.shape)\n",
    "print(X.shape)\n",
    "\n",
    "fig, ax = plt.subplots()\n",
    "\n",
    "# Gaussian KDE\n",
    "kde = KernelDensity(kernel='gaussian', bandwidth=0.75).fit(X)\n",
    "log_dens = kde.score_samples(X_plot)\n",
    "ax.fill(X_plot[:, 0], np.exp(log_dens), fc='#AAAAFF')\n",
    "ax.text(-3.5, 0.31, \"Gaussian Kernel Density\")\n"
   ]
  },
  {
   "cell_type": "code",
   "execution_count": 12,
   "metadata": {},
   "outputs": [
    {
     "name": "stderr",
     "output_type": "stream",
     "text": [
      "No handles with labels found to put in legend.\n"
     ]
    },
    {
     "data": {
      "image/png": "[encoded data removed]",
      "text/plain": [
       "<Figure size 432x288 with 1 Axes>"
      ]
     },
     "metadata": {
      "needs_background": "light"
     },
     "output_type": "display_data"
    }
   ],
   "source": [
    "\n",
    "\n",
    "X = normalValues\n",
    "\n",
    "X_plot = np.linspace(-5, 10, 1000)[:, np.newaxis]\n",
    "\n",
    "\n",
    "fig, ax = plt.subplots()\n",
    "\n",
    "\n",
    "\n",
    "kde = KernelDensity(kernel='gaussian', bandwidth=0.5).fit(X)\n",
    "log_dens = kde.score_samples(X_plot)\n",
    "ax.plot(X_plot[:, 0], np.exp(log_dens), '-')\n",
    "\n",
    "\n",
    "\n",
    "ax.legend(loc='upper right')\n",
    "ax.plot(X[:, 0], -0.005 - 0.01 * np.random.random(X.shape[0]), '+k')\n",
    "\n",
    "ax.set_xlim(-4, 9)\n",
    "ax.set_ylim(-0.02, 0.4)\n",
    "plt.show()"
   ]
  },
  {
   "cell_type": "markdown",
   "metadata": {},
   "source": [
    "### To make sure I understood it correctly:\n",
    "We fit KDE on out data and then sample so random numbers from the distribution. Plot the random samples and their scores to get the pic of the distribution? I followed sklearn example as closely as I could and this is what I understood :|"
   ]
  },
  {
   "cell_type": "code",
   "execution_count": null,
   "metadata": {},
   "outputs": [],
   "source": []
  }
 ],
 "metadata": {
  "kernelspec": {
   "display_name": "Python 3",
   "language": "python",
   "name": "python3"
  },
  "language_info": {
   "codemirror_mode": {
    "name": "ipython",
    "version": 3
   },
   "file_extension": ".py",
   "mimetype": "text/x-python",
   "name": "python",
   "nbconvert_exporter": "python",
   "pygments_lexer": "ipython3",
   "version": "3.7.2"
  }
 },
 "nbformat": 4,
 "nbformat_minor": 2
}
